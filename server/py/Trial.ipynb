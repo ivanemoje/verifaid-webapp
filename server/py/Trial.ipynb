{
 "cells": [
  {
   "cell_type": "code",
   "execution_count": 1,
   "metadata": {},
   "outputs": [],
   "source": [
    "import pandas as pd\n",
    "import datetime\n",
    "import requests\n",
    "import warnings\n",
    "import socket\n",
    "import json\n",
    "\n",
    "from urllib.request import urlopen\n",
    "from urllib.error import URLError\n",
    "\n",
    "warnings.filterwarnings(\"ignore\")"
   ]
  },
  {
   "cell_type": "code",
   "execution_count": 2,
   "metadata": {},
   "outputs": [],
   "source": [
    "server = 'http://10.11.160.83/'\n",
    "nodelocalhost = 'http://localhost:3000/'\n",
    "post_entry_url = 'http://localhost:3000/addentry'\n",
    "\n",
    "headers = { 'Content-Type' : 'application/json'}"
   ]
  },
  {
   "cell_type": "code",
   "execution_count": 3,
   "metadata": {},
   "outputs": [],
   "source": [
    "def server_reachable():\n",
    "    try:\n",
    "        urlopen(nodelocalhost, timeout=5)\n",
    "        return True\n",
    "    except URLError as err:\n",
    "        return False\n",
    "    except socket.timeout:\n",
    "        print (\"Server timeout\")\n",
    "        return False"
   ]
  },
  {
   "cell_type": "code",
   "execution_count": 4,
   "metadata": {},
   "outputs": [
    {
     "data": {
      "text/plain": [
       "True"
      ]
     },
     "execution_count": 4,
     "metadata": {},
     "output_type": "execute_result"
    }
   ],
   "source": [
    "server_reachable()"
   ]
  },
  {
   "cell_type": "code",
   "execution_count": 5,
   "metadata": {},
   "outputs": [],
   "source": [
    "def change_data_type (dataframe, columns, data_type):\n",
    "    for column in columns:\n",
    "        dataframe [column] = dataframe[column].astype(data_type)\n",
    "\n",
    "def calculate_percentage (dataframe, column_1, column_2):\n",
    "    dataframe.apply (lambda row: (row.column_1 / row.column_2 )*100, axis=1)"
   ]
  },
  {
   "cell_type": "code",
   "execution_count": 6,
   "metadata": {},
   "outputs": [
    {
     "data": {
      "text/plain": [
       "True"
      ]
     },
     "execution_count": 6,
     "metadata": {},
     "output_type": "execute_result"
    }
   ],
   "source": [
    "server_reachable()"
   ]
  },
  {
   "cell_type": "code",
   "execution_count": 89,
   "metadata": {},
   "outputs": [],
   "source": [
    "data = pd.read_csv('extractData.txt', sep=\"|\", header=None)\n",
    "data = data.fillna(0)\n",
    "data = data [:-1]\n",
    "data.columns = [\"manifest_name\", \"begin_date\", \"end_date\", \"servedHH\", \"servedPopn\", \"plannedHH\", \"plannedPopn\"]\n",
    "\n",
    "data['percent_HH'] = data.apply(lambda row: (row.servedHH / row.plannedHH)*100, axis=1)\n",
    "data['percent_Popn'] = data.apply(lambda row: (row.servedPopn / row.plannedPopn)*100, axis=1)\n",
    "\n",
    "columns = ['percent_HH', 'percent_Popn', 'servedHH' , 'servedPopn', 'plannedHH' , 'plannedPopn' ]\n",
    "\n",
    "change_data_type (data, columns, 'int64')\n",
    "change_data_type (data, columns, 'str')\n",
    "\n",
    "data['hostname'] = socket.gethostname()\n",
    "data[['settlement','cycle', 'cycle_year', 'mod', 'fdp', 'modality']] = data.manifest_name.apply(lambda x: pd.Series(str(x).split(\"-\", 5)))\n",
    "data = data.drop(['mod'], axis =1)"
   ]
  },
  {
   "cell_type": "code",
   "execution_count": 90,
   "metadata": {},
   "outputs": [
    {
     "data": {
      "text/html": [
       "<div>\n",
       "<style scoped>\n",
       "    .dataframe tbody tr th:only-of-type {\n",
       "        vertical-align: middle;\n",
       "    }\n",
       "\n",
       "    .dataframe tbody tr th {\n",
       "        vertical-align: top;\n",
       "    }\n",
       "\n",
       "    .dataframe thead th {\n",
       "        text-align: right;\n",
       "    }\n",
       "</style>\n",
       "<table border=\"1\" class=\"dataframe\">\n",
       "  <thead>\n",
       "    <tr style=\"text-align: right;\">\n",
       "      <th></th>\n",
       "      <th>manifest_name</th>\n",
       "      <th>begin_date</th>\n",
       "      <th>end_date</th>\n",
       "      <th>servedHH</th>\n",
       "      <th>servedPopn</th>\n",
       "      <th>plannedHH</th>\n",
       "      <th>plannedPopn</th>\n",
       "      <th>percent_HH</th>\n",
       "      <th>percent_Popn</th>\n",
       "      <th>hostname</th>\n",
       "      <th>settlement</th>\n",
       "      <th>cycle</th>\n",
       "      <th>cycle_year</th>\n",
       "      <th>fdp</th>\n",
       "      <th>modality</th>\n",
       "    </tr>\n",
       "  </thead>\n",
       "  <tbody>\n",
       "    <tr>\n",
       "      <th>0</th>\n",
       "      <td>Rhino-07-19-c-Tika-Cash</td>\n",
       "      <td>2019-07-11</td>\n",
       "      <td>2019-08-09</td>\n",
       "      <td>0</td>\n",
       "      <td>0</td>\n",
       "      <td>667</td>\n",
       "      <td>2916</td>\n",
       "      <td>0</td>\n",
       "      <td>0</td>\n",
       "      <td>ubuntu</td>\n",
       "      <td>Rhino</td>\n",
       "      <td>07</td>\n",
       "      <td>19</td>\n",
       "      <td>Tika</td>\n",
       "      <td>Cash</td>\n",
       "    </tr>\n",
       "    <tr>\n",
       "      <th>1</th>\n",
       "      <td>Rhino-07-19-c-Omugo FDP2-Cash</td>\n",
       "      <td>2019-07-11</td>\n",
       "      <td>2019-08-16</td>\n",
       "      <td>0</td>\n",
       "      <td>0</td>\n",
       "      <td>1612</td>\n",
       "      <td>4513</td>\n",
       "      <td>0</td>\n",
       "      <td>0</td>\n",
       "      <td>ubuntu</td>\n",
       "      <td>Rhino</td>\n",
       "      <td>07</td>\n",
       "      <td>19</td>\n",
       "      <td>Omugo FDP2</td>\n",
       "      <td>Cash</td>\n",
       "    </tr>\n",
       "    <tr>\n",
       "      <th>2</th>\n",
       "      <td>Rhino-07-19-f-Odubu-Food</td>\n",
       "      <td>2019-07-11</td>\n",
       "      <td>2019-08-09</td>\n",
       "      <td>0</td>\n",
       "      <td>0</td>\n",
       "      <td>638</td>\n",
       "      <td>2814</td>\n",
       "      <td>0</td>\n",
       "      <td>0</td>\n",
       "      <td>ubuntu</td>\n",
       "      <td>Rhino</td>\n",
       "      <td>07</td>\n",
       "      <td>19</td>\n",
       "      <td>Odubu</td>\n",
       "      <td>Food</td>\n",
       "    </tr>\n",
       "    <tr>\n",
       "      <th>3</th>\n",
       "      <td>Rhino-07-19-c-Odubu-Cash</td>\n",
       "      <td>2019-07-11</td>\n",
       "      <td>2019-07-11</td>\n",
       "      <td>0</td>\n",
       "      <td>0</td>\n",
       "      <td>1204</td>\n",
       "      <td>7429</td>\n",
       "      <td>0</td>\n",
       "      <td>0</td>\n",
       "      <td>ubuntu</td>\n",
       "      <td>Rhino</td>\n",
       "      <td>07</td>\n",
       "      <td>19</td>\n",
       "      <td>Odubu</td>\n",
       "      <td>Cash</td>\n",
       "    </tr>\n",
       "    <tr>\n",
       "      <th>4</th>\n",
       "      <td>Rhino-07-19-f-Tika-Food</td>\n",
       "      <td>2019-07-11</td>\n",
       "      <td>2019-08-16</td>\n",
       "      <td>0</td>\n",
       "      <td>0</td>\n",
       "      <td>2007</td>\n",
       "      <td>6617</td>\n",
       "      <td>0</td>\n",
       "      <td>0</td>\n",
       "      <td>ubuntu</td>\n",
       "      <td>Rhino</td>\n",
       "      <td>07</td>\n",
       "      <td>19</td>\n",
       "      <td>Tika</td>\n",
       "      <td>Food</td>\n",
       "    </tr>\n",
       "  </tbody>\n",
       "</table>\n",
       "</div>"
      ],
      "text/plain": [
       "                   manifest_name  begin_date    end_date servedHH servedPopn  \\\n",
       "0        Rhino-07-19-c-Tika-Cash  2019-07-11  2019-08-09        0          0   \n",
       "1  Rhino-07-19-c-Omugo FDP2-Cash  2019-07-11  2019-08-16        0          0   \n",
       "2       Rhino-07-19-f-Odubu-Food  2019-07-11  2019-08-09        0          0   \n",
       "3       Rhino-07-19-c-Odubu-Cash  2019-07-11  2019-07-11        0          0   \n",
       "4        Rhino-07-19-f-Tika-Food  2019-07-11  2019-08-16        0          0   \n",
       "\n",
       "  plannedHH plannedPopn percent_HH percent_Popn hostname settlement cycle  \\\n",
       "0       667        2916          0            0   ubuntu      Rhino    07   \n",
       "1      1612        4513          0            0   ubuntu      Rhino    07   \n",
       "2       638        2814          0            0   ubuntu      Rhino    07   \n",
       "3      1204        7429          0            0   ubuntu      Rhino    07   \n",
       "4      2007        6617          0            0   ubuntu      Rhino    07   \n",
       "\n",
       "  cycle_year         fdp modality  \n",
       "0         19        Tika     Cash  \n",
       "1         19  Omugo FDP2     Cash  \n",
       "2         19       Odubu     Food  \n",
       "3         19       Odubu     Cash  \n",
       "4         19        Tika     Food  "
      ]
     },
     "execution_count": 90,
     "metadata": {},
     "output_type": "execute_result"
    }
   ],
   "source": [
    "data.head()"
   ]
  },
  {
   "cell_type": "code",
   "execution_count": null,
   "metadata": {},
   "outputs": [],
   "source": []
  },
  {
   "cell_type": "code",
   "execution_count": null,
   "metadata": {},
   "outputs": [],
   "source": []
  },
  {
   "cell_type": "code",
   "execution_count": 91,
   "metadata": {},
   "outputs": [
    {
     "name": "stdout",
     "output_type": "stream",
     "text": [
      "Wrangles\n"
     ]
    }
   ],
   "source": [
    "\n",
    "area = []\n",
    "field = []\n",
    "    \n",
    "for row in data['settlement']:\n",
    "    if row == 'Lobule' or 'Rhino' or 'Imvepi' or 'Bidibidi':\n",
    "        area.append('Arua')\n",
    "        field.append ('Koboko')\n",
    "    elif row == 'Adjumani' or 'Palabek' or 'Palorinya' or 'Kiryandongo':\n",
    "        area.append('Arua')\n",
    "        field.append ('Gulu')\n",
    "    elif row == 'Nakivale' or 'Oruchinga':\n",
    "        area.append('Mbarara')\n",
    "        field.append ('Isingiro')\n",
    "    elif row == 'Rwamwanja' or 'Kyaka':\n",
    "        area.append('Mbarara')\n",
    "        field.append ('Kyenjojo')\n",
    "    elif row == 'Kyangwali':\n",
    "        area.append('Mbarara')\n",
    "        field.append ('Kyangwali')\n",
    "    else:\n",
    "        area.append('None')\n",
    "        field.append ('None')\n",
    "       \n",
    "# Create a column from the list\n",
    "data['area'] = area\n",
    "data['field'] = field \n",
    "\n",
    "data.to_json('extractData.json', orient='records')\n",
    "print (\"Wrangles\")"
   ]
  },
  {
   "cell_type": "code",
   "execution_count": 85,
   "metadata": {},
   "outputs": [],
   "source": [
    "json_string = data.to_json(orient='records')"
   ]
  },
  {
   "cell_type": "code",
   "execution_count": 86,
   "metadata": {},
   "outputs": [],
   "source": [
    "json_data = json.loads(json_string)"
   ]
  },
  {
   "cell_type": "code",
   "execution_count": 88,
   "metadata": {},
   "outputs": [
    {
     "name": "stdout",
     "output_type": "stream",
     "text": [
      "<Response [200]>\n",
      "<Response [200]>\n",
      "<Response [200]>\n",
      "<Response [200]>\n",
      "<Response [200]>\n",
      "<Response [200]>\n"
     ]
    }
   ],
   "source": [
    "for entry in json_data:\n",
    "    r = requests.post(post_entry_url, data=json.dumps(entry), headers=headers)\n",
    "    print (r)"
   ]
  },
  {
   "cell_type": "code",
   "execution_count": null,
   "metadata": {},
   "outputs": [],
   "source": []
  },
  {
   "cell_type": "code",
   "execution_count": 84,
   "metadata": {},
   "outputs": [
    {
     "name": "stdout",
     "output_type": "stream",
     "text": [
      "{'manifest_name': 'Rhino-07-19-c-Tika-Cash', 'begin_date': '2019-07-11', 'end_date': '2019-08-09', 'servedHH': '0', 'servedPopn': '0', 'plannedHH': '667', 'plannedPopn': '2916', 'percent_HH': '0', 'percent_Popn': '0', 'hostname': 'ubuntu', 'settlement': 'Rhino', 'cycle': '07', 'cycle_year': '19', 'fdp': 'Tika', 'modality': 'Cash', 'area': 'Arua', 'field': 'Koboko'}\n",
      "{'manifest_name': 'Rhino-07-19-c-Omugo FDP2-Cash', 'begin_date': '2019-07-11', 'end_date': '2019-08-16', 'servedHH': '0', 'servedPopn': '0', 'plannedHH': '1612', 'plannedPopn': '4513', 'percent_HH': '0', 'percent_Popn': '0', 'hostname': 'ubuntu', 'settlement': 'Rhino', 'cycle': '07', 'cycle_year': '19', 'fdp': 'Omugo FDP2', 'modality': 'Cash', 'area': 'Arua', 'field': 'Koboko'}\n",
      "{'manifest_name': 'Rhino-07-19-f-Odubu-Food', 'begin_date': '2019-07-11', 'end_date': '2019-08-09', 'servedHH': '0', 'servedPopn': '0', 'plannedHH': '638', 'plannedPopn': '2814', 'percent_HH': '0', 'percent_Popn': '0', 'hostname': 'ubuntu', 'settlement': 'Rhino', 'cycle': '07', 'cycle_year': '19', 'fdp': 'Odubu', 'modality': 'Food', 'area': 'Arua', 'field': 'Koboko'}\n",
      "{'manifest_name': 'Rhino-07-19-c-Odubu-Cash', 'begin_date': '2019-07-11', 'end_date': '2019-07-11', 'servedHH': '0', 'servedPopn': '0', 'plannedHH': '1204', 'plannedPopn': '7429', 'percent_HH': '0', 'percent_Popn': '0', 'hostname': 'ubuntu', 'settlement': 'Rhino', 'cycle': '07', 'cycle_year': '19', 'fdp': 'Odubu', 'modality': 'Cash', 'area': 'Arua', 'field': 'Koboko'}\n",
      "{'manifest_name': 'Rhino-07-19-f-Tika-Food', 'begin_date': '2019-07-11', 'end_date': '2019-08-16', 'servedHH': '0', 'servedPopn': '0', 'plannedHH': '2007', 'plannedPopn': '6617', 'percent_HH': '0', 'percent_Popn': '0', 'hostname': 'ubuntu', 'settlement': 'Rhino', 'cycle': '07', 'cycle_year': '19', 'fdp': 'Tika', 'modality': 'Food', 'area': 'Arua', 'field': 'Koboko'}\n",
      "{'manifest_name': 'Rhino-07-19-f-Omugo FDP2-Food', 'begin_date': '2019-07-10', 'end_date': '2019-08-02', 'servedHH': '1802', 'servedPopn': '9112', 'plannedHH': '8081', 'plannedPopn': '22499', 'percent_HH': '22', 'percent_Popn': '40', 'hostname': 'ubuntu', 'settlement': 'Rhino', 'cycle': '07', 'cycle_year': '19', 'fdp': 'Omugo FDP2', 'modality': 'Food', 'area': 'Arua', 'field': 'Koboko'}\n"
     ]
    }
   ],
   "source": [
    "gs = json.loads(thing)\n",
    "for entry in gs:\n",
    "    print (entry)"
   ]
  },
  {
   "cell_type": "code",
   "execution_count": null,
   "metadata": {},
   "outputs": [],
   "source": []
  },
  {
   "cell_type": "code",
   "execution_count": 67,
   "metadata": {},
   "outputs": [
    {
     "data": {
      "text/plain": [
       "<Response [400]>"
      ]
     },
     "execution_count": 67,
     "metadata": {},
     "output_type": "execute_result"
    }
   ],
   "source": [
    "requests.post(post_entry_url, json=thing, headers=headers)"
   ]
  },
  {
   "cell_type": "code",
   "execution_count": 73,
   "metadata": {},
   "outputs": [],
   "source": [
    "thing2 = thing[1:]\n",
    "thing2 = thing2[:-1]"
   ]
  },
  {
   "cell_type": "code",
   "execution_count": 79,
   "metadata": {},
   "outputs": [
    {
     "name": "stdout",
     "output_type": "stream",
     "text": [
      "<Response [400]>\n"
     ]
    }
   ],
   "source": [
    "response = requests.post(post_entry_url, data=json.dumps(thing), headers=headers)\n",
    "print (response)"
   ]
  },
  {
   "cell_type": "code",
   "execution_count": null,
   "metadata": {},
   "outputs": [],
   "source": []
  },
  {
   "cell_type": "code",
   "execution_count": null,
   "metadata": {},
   "outputs": [],
   "source": []
  },
  {
   "cell_type": "code",
   "execution_count": null,
   "metadata": {},
   "outputs": [],
   "source": []
  },
  {
   "cell_type": "code",
   "execution_count": null,
   "metadata": {},
   "outputs": [],
   "source": []
  },
  {
   "cell_type": "code",
   "execution_count": 64,
   "metadata": {},
   "outputs": [],
   "source": [
    "datum = {\"manifest_name\" : \"py_test\"}\n",
    "for x in range (1,10): \n",
    "    requests.post(post_entry_url, json=datum, headers=headers)"
   ]
  },
  {
   "cell_type": "code",
   "execution_count": 55,
   "metadata": {},
   "outputs": [],
   "source": [
    "with open('extractData.json', 'rb') as json_file:\n",
    "    json_data = json.load(json_file)"
   ]
  },
  {
   "cell_type": "code",
   "execution_count": 56,
   "metadata": {},
   "outputs": [
    {
     "name": "stdout",
     "output_type": "stream",
     "text": [
      "<Response [200]>\n"
     ]
    }
   ],
   "source": [
    "r = requests.post(post_entry_url, data=json.dumps(json_data), headers=headers)\n",
    "print (r)"
   ]
  },
  {
   "cell_type": "code",
   "execution_count": 59,
   "metadata": {},
   "outputs": [],
   "source": [
    "contents = open('extractData.json', 'rb').read()"
   ]
  },
  {
   "cell_type": "code",
   "execution_count": 61,
   "metadata": {},
   "outputs": [
    {
     "ename": "TypeError",
     "evalue": "Object of type 'bytes' is not JSON serializable",
     "output_type": "error",
     "traceback": [
      "\u001b[0;31m---------------------------------------------------------------------------\u001b[0m",
      "\u001b[0;31mTypeError\u001b[0m                                 Traceback (most recent call last)",
      "\u001b[0;32m<ipython-input-61-9c5e84ea269d>\u001b[0m in \u001b[0;36m<module>\u001b[0;34m\u001b[0m\n\u001b[0;32m----> 1\u001b[0;31m \u001b[0mprint\u001b[0m \u001b[0;34m(\u001b[0m\u001b[0mjson\u001b[0m\u001b[0;34m.\u001b[0m\u001b[0mdumps\u001b[0m\u001b[0;34m(\u001b[0m\u001b[0mcontents\u001b[0m\u001b[0;34m)\u001b[0m\u001b[0;34m)\u001b[0m\u001b[0;34m\u001b[0m\u001b[0;34m\u001b[0m\u001b[0m\n\u001b[0m",
      "\u001b[0;32m/usr/lib/python3.6/json/__init__.py\u001b[0m in \u001b[0;36mdumps\u001b[0;34m(obj, skipkeys, ensure_ascii, check_circular, allow_nan, cls, indent, separators, default, sort_keys, **kw)\u001b[0m\n\u001b[1;32m    229\u001b[0m         \u001b[0mcls\u001b[0m \u001b[0;32mis\u001b[0m \u001b[0;32mNone\u001b[0m \u001b[0;32mand\u001b[0m \u001b[0mindent\u001b[0m \u001b[0;32mis\u001b[0m \u001b[0;32mNone\u001b[0m \u001b[0;32mand\u001b[0m \u001b[0mseparators\u001b[0m \u001b[0;32mis\u001b[0m \u001b[0;32mNone\u001b[0m \u001b[0;32mand\u001b[0m\u001b[0;34m\u001b[0m\u001b[0;34m\u001b[0m\u001b[0m\n\u001b[1;32m    230\u001b[0m         default is None and not sort_keys and not kw):\n\u001b[0;32m--> 231\u001b[0;31m         \u001b[0;32mreturn\u001b[0m \u001b[0m_default_encoder\u001b[0m\u001b[0;34m.\u001b[0m\u001b[0mencode\u001b[0m\u001b[0;34m(\u001b[0m\u001b[0mobj\u001b[0m\u001b[0;34m)\u001b[0m\u001b[0;34m\u001b[0m\u001b[0;34m\u001b[0m\u001b[0m\n\u001b[0m\u001b[1;32m    232\u001b[0m     \u001b[0;32mif\u001b[0m \u001b[0mcls\u001b[0m \u001b[0;32mis\u001b[0m \u001b[0;32mNone\u001b[0m\u001b[0;34m:\u001b[0m\u001b[0;34m\u001b[0m\u001b[0;34m\u001b[0m\u001b[0m\n\u001b[1;32m    233\u001b[0m         \u001b[0mcls\u001b[0m \u001b[0;34m=\u001b[0m \u001b[0mJSONEncoder\u001b[0m\u001b[0;34m\u001b[0m\u001b[0;34m\u001b[0m\u001b[0m\n",
      "\u001b[0;32m/usr/lib/python3.6/json/encoder.py\u001b[0m in \u001b[0;36mencode\u001b[0;34m(self, o)\u001b[0m\n\u001b[1;32m    197\u001b[0m         \u001b[0;31m# exceptions aren't as detailed.  The list call should be roughly\u001b[0m\u001b[0;34m\u001b[0m\u001b[0;34m\u001b[0m\u001b[0;34m\u001b[0m\u001b[0m\n\u001b[1;32m    198\u001b[0m         \u001b[0;31m# equivalent to the PySequence_Fast that ''.join() would do.\u001b[0m\u001b[0;34m\u001b[0m\u001b[0;34m\u001b[0m\u001b[0;34m\u001b[0m\u001b[0m\n\u001b[0;32m--> 199\u001b[0;31m         \u001b[0mchunks\u001b[0m \u001b[0;34m=\u001b[0m \u001b[0mself\u001b[0m\u001b[0;34m.\u001b[0m\u001b[0miterencode\u001b[0m\u001b[0;34m(\u001b[0m\u001b[0mo\u001b[0m\u001b[0;34m,\u001b[0m \u001b[0m_one_shot\u001b[0m\u001b[0;34m=\u001b[0m\u001b[0;32mTrue\u001b[0m\u001b[0;34m)\u001b[0m\u001b[0;34m\u001b[0m\u001b[0;34m\u001b[0m\u001b[0m\n\u001b[0m\u001b[1;32m    200\u001b[0m         \u001b[0;32mif\u001b[0m \u001b[0;32mnot\u001b[0m \u001b[0misinstance\u001b[0m\u001b[0;34m(\u001b[0m\u001b[0mchunks\u001b[0m\u001b[0;34m,\u001b[0m \u001b[0;34m(\u001b[0m\u001b[0mlist\u001b[0m\u001b[0;34m,\u001b[0m \u001b[0mtuple\u001b[0m\u001b[0;34m)\u001b[0m\u001b[0;34m)\u001b[0m\u001b[0;34m:\u001b[0m\u001b[0;34m\u001b[0m\u001b[0;34m\u001b[0m\u001b[0m\n\u001b[1;32m    201\u001b[0m             \u001b[0mchunks\u001b[0m \u001b[0;34m=\u001b[0m \u001b[0mlist\u001b[0m\u001b[0;34m(\u001b[0m\u001b[0mchunks\u001b[0m\u001b[0;34m)\u001b[0m\u001b[0;34m\u001b[0m\u001b[0;34m\u001b[0m\u001b[0m\n",
      "\u001b[0;32m/usr/lib/python3.6/json/encoder.py\u001b[0m in \u001b[0;36miterencode\u001b[0;34m(self, o, _one_shot)\u001b[0m\n\u001b[1;32m    255\u001b[0m                 \u001b[0mself\u001b[0m\u001b[0;34m.\u001b[0m\u001b[0mkey_separator\u001b[0m\u001b[0;34m,\u001b[0m \u001b[0mself\u001b[0m\u001b[0;34m.\u001b[0m\u001b[0mitem_separator\u001b[0m\u001b[0;34m,\u001b[0m \u001b[0mself\u001b[0m\u001b[0;34m.\u001b[0m\u001b[0msort_keys\u001b[0m\u001b[0;34m,\u001b[0m\u001b[0;34m\u001b[0m\u001b[0;34m\u001b[0m\u001b[0m\n\u001b[1;32m    256\u001b[0m                 self.skipkeys, _one_shot)\n\u001b[0;32m--> 257\u001b[0;31m         \u001b[0;32mreturn\u001b[0m \u001b[0m_iterencode\u001b[0m\u001b[0;34m(\u001b[0m\u001b[0mo\u001b[0m\u001b[0;34m,\u001b[0m \u001b[0;36m0\u001b[0m\u001b[0;34m)\u001b[0m\u001b[0;34m\u001b[0m\u001b[0;34m\u001b[0m\u001b[0m\n\u001b[0m\u001b[1;32m    258\u001b[0m \u001b[0;34m\u001b[0m\u001b[0m\n\u001b[1;32m    259\u001b[0m def _make_iterencode(markers, _default, _encoder, _indent, _floatstr,\n",
      "\u001b[0;32m/usr/lib/python3.6/json/encoder.py\u001b[0m in \u001b[0;36mdefault\u001b[0;34m(self, o)\u001b[0m\n\u001b[1;32m    178\u001b[0m         \"\"\"\n\u001b[1;32m    179\u001b[0m         raise TypeError(\"Object of type '%s' is not JSON serializable\" %\n\u001b[0;32m--> 180\u001b[0;31m                         o.__class__.__name__)\n\u001b[0m\u001b[1;32m    181\u001b[0m \u001b[0;34m\u001b[0m\u001b[0m\n\u001b[1;32m    182\u001b[0m     \u001b[0;32mdef\u001b[0m \u001b[0mencode\u001b[0m\u001b[0;34m(\u001b[0m\u001b[0mself\u001b[0m\u001b[0;34m,\u001b[0m \u001b[0mo\u001b[0m\u001b[0;34m)\u001b[0m\u001b[0;34m:\u001b[0m\u001b[0;34m\u001b[0m\u001b[0;34m\u001b[0m\u001b[0m\n",
      "\u001b[0;31mTypeError\u001b[0m: Object of type 'bytes' is not JSON serializable"
     ]
    }
   ],
   "source": [
    "print (json.dumps(contents))"
   ]
  },
  {
   "cell_type": "code",
   "execution_count": 42,
   "metadata": {},
   "outputs": [
    {
     "name": "stdout",
     "output_type": "stream",
     "text": [
      "<_io.BufferedReader name='extractData.json'>\n"
     ]
    }
   ],
   "source": []
  },
  {
   "cell_type": "code",
   "execution_count": null,
   "metadata": {},
   "outputs": [],
   "source": []
  },
  {
   "cell_type": "code",
   "execution_count": 57,
   "metadata": {},
   "outputs": [],
   "source": [
    "# with open('extractData.json') as json_file:\n",
    "#     data_json = json.load(json_file)\n",
    "#     for entry in data_json:\n",
    "#         print (entry)"
   ]
  },
  {
   "cell_type": "code",
   "execution_count": null,
   "metadata": {},
   "outputs": [],
   "source": []
  },
  {
   "cell_type": "code",
   "execution_count": 58,
   "metadata": {},
   "outputs": [],
   "source": [
    "# with open('extractData.json') as json_file:\n",
    "#     data_json = json.load(json_file)\n",
    "#     for entry in data_json:\n",
    "# #         print (entry)\n",
    "#         requests.post(post_entry_url, json=entry, headers=headers)"
   ]
  },
  {
   "cell_type": "code",
   "execution_count": null,
   "metadata": {},
   "outputs": [],
   "source": []
  },
  {
   "cell_type": "code",
   "execution_count": null,
   "metadata": {},
   "outputs": [],
   "source": []
  },
  {
   "cell_type": "markdown",
   "metadata": {},
   "source": [
    "with open('extractData.json') as json_file:\n",
    "    data_json = json.load(json_file)\n",
    "    for entry in data_json:\n",
    "        r = requests.post(post_entry_url, data = json.dumps(entry), headers=headers)\n",
    "    print (\"Completed posting data to server at \" + str(datetime.datetime.now))"
   ]
  },
  {
   "cell_type": "code",
   "execution_count": null,
   "metadata": {},
   "outputs": [],
   "source": []
  },
  {
   "cell_type": "code",
   "execution_count": null,
   "metadata": {},
   "outputs": [],
   "source": []
  }
 ],
 "metadata": {
  "kernelspec": {
   "display_name": "Python 3",
   "language": "python",
   "name": "python3"
  },
  "language_info": {
   "codemirror_mode": {
    "name": "ipython",
    "version": 3
   },
   "file_extension": ".py",
   "mimetype": "text/x-python",
   "name": "python",
   "nbconvert_exporter": "python",
   "pygments_lexer": "ipython3",
   "version": "3.6.8"
  }
 },
 "nbformat": 4,
 "nbformat_minor": 2
}
